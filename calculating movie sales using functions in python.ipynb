{
 "cells": [
  {
   "cell_type": "markdown",
   "id": "449f2be9-61f4-4b88-9baa-e108c29720b0",
   "metadata": {},
   "source": [
    "In this project am working for a movie theater as a data analyst and I am required to calculate how much the theater has made in sales."
   ]
  },
  {
   "cell_type": "code",
   "execution_count": 20,
   "id": "d9405b62-6a28-4d64-929e-5db7e13fc866",
   "metadata": {},
   "outputs": [],
   "source": [
    "# First I will Define a function named `total_sales`\n",
    "def total_sales():\n",
    "\n",
    "    # Return a value (A calculated Value)\n",
    "    return"
   ]
  },
  {
   "cell_type": "markdown",
   "id": "7dc06f9c-26a2-449d-bc54-b07c42cc14fc",
   "metadata": {},
   "source": [
    "## Adding a parameter and calculations to the function"
   ]
  },
  {
   "cell_type": "markdown",
   "id": "8d876f9a-48cc-40ec-a438-ff63fe9260a3",
   "metadata": {},
   "source": [
    "The price of tickets is $10.99. Now I will need to add a parameter to the function definition and the calculation to the function body."
   ]
  },
  {
   "cell_type": "markdown",
   "id": "5012e046-5da4-458a-b039-1177366d6ba5",
   "metadata": {},
   "source": [
    "### Add a calculation to the function\n",
    "\n",
    "update the `total_sales` function so it returns the value of the number of tickets `n` multiplied by the price `10.99`."
   ]
  },
  {
   "cell_type": "code",
   "execution_count": 13,
   "id": "bbb6c411-6b13-480e-b2bc-0a13ffd99cb5",
   "metadata": {},
   "outputs": [],
   "source": [
    "# Add a parameter to the function\n",
    "def total_sales(n):\n",
    "\n",
    "    # Multiply the parameter by the ticket price to get total sales\n",
    "    return n * 10.99"
   ]
  },
  {
   "cell_type": "markdown",
   "id": "dfadd289-f36d-4bf3-b425-9af673926ed4",
   "metadata": {},
   "source": [
    "### Call the function\n",
    "\n",
    "With the calculations added to the `total_sales` function, I will test it with a value of `49`.\n"
   ]
  },
  {
   "cell_type": "code",
   "execution_count": 14,
   "id": "828ee5b9-2e6b-441e-bbf4-8b1dd050d91c",
   "metadata": {},
   "outputs": [
    {
     "data": {
      "text/plain": [
       "538.51"
      ]
     },
     "execution_count": 14,
     "metadata": {},
     "output_type": "execute_result"
    }
   ],
   "source": [
    "# Call the function\n",
    "total_sales(49)"
   ]
  },
  {
   "cell_type": "markdown",
   "id": "e24c10bc-19b1-4a42-a334-920ce02eb725",
   "metadata": {},
   "source": [
    "# Create a function that accepts two values\n",
    "\n",
    "You learn that the price of tickets is more expensive for opening night, and now I need to create a function that will accept two values and return their total value."
   ]
  },
  {
   "cell_type": "markdown",
   "id": "27d61765-1aac-4cc0-8384-fbde1e3f6eee",
   "metadata": {},
   "source": [
    "###  Refine the `total_sales` function\n",
    "\n",
    "*   I will Update my `total_sales` function so it accepts two parameters:\n",
    "    * `price` for the price per ticket\n",
    "    * `num_tickets` for the total number of tickets sold.\n",
    "\n",
    "* Return the product of the two arguments. I Use the Python `round()` function to round the returned value to two decimal places."
   ]
  },
  {
   "cell_type": "code",
   "execution_count": 21,
   "id": "db21d4f4-cfda-4a1b-8ade-1fc1cbef3a71",
   "metadata": {},
   "outputs": [],
   "source": [
    "# Refine the `total_sales` function to accept two input parameters\n",
    "def total_sales(price, num_tickets):\n",
    "    return round(price * num_tickets, 2)"
   ]
  },
  {
   "cell_type": "markdown",
   "id": "12848a60-0b75-4b78-aaf2-eee77ed52d42",
   "metadata": {},
   "source": [
    "### Call the function\n",
    "\n",
    "Then, I will call the function with the value of `25.99` for `price` and `2001` for the number of tickets sold (`num_tickets`)."
   ]
  },
  {
   "cell_type": "code",
   "execution_count": 22,
   "id": "c7dc72c3-2723-4d45-be60-ffac87e27957",
   "metadata": {},
   "outputs": [
    {
     "data": {
      "text/plain": [
       "52005.99"
      ]
     },
     "execution_count": 22,
     "metadata": {},
     "output_type": "execute_result"
    }
   ],
   "source": [
    "# Call the function with two values(Values for the price and number of tickets sold in order to calculate the total sales)\n",
    "total_sales(25.99, 2001)"
   ]
  },
  {
   "cell_type": "markdown",
   "id": "9acfeda1-5e0d-440b-a309-dcfd8a9f9076",
   "metadata": {},
   "source": [
    "## Testing the function with different values\n",
    "\n",
    "As prices and sales fluctuate, my function will need to accept different values and still return the total sales as per the new values without the need for me wrtiting new code.\n",
    "\n",
    "In the next steps(optional) I Will practice calling my function with different values for price and number of tickets sold to find new total sales."
   ]
  },
  {
   "cell_type": "code",
   "execution_count": 17,
   "id": "04b3a724-ad76-4b57-82f8-81f3f54c1519",
   "metadata": {},
   "outputs": [
    {
     "data": {
      "text/plain": [
       "81021.6"
      ]
     },
     "execution_count": 17,
     "metadata": {},
     "output_type": "execute_result"
    }
   ],
   "source": [
    "# Call `total_sales` with 36.30 price and 2232 num_tickets\n",
    "total_sales(36.30, 2232)"
   ]
  },
  {
   "cell_type": "code",
   "execution_count": 18,
   "id": "cf4720d9-3407-44c2-aaed-27ddc5e53cd5",
   "metadata": {},
   "outputs": [
    {
     "data": {
      "text/plain": [
       "377336.0"
      ]
     },
     "execution_count": 18,
     "metadata": {},
     "output_type": "execute_result"
    }
   ],
   "source": [
    "# Call `total_sales` with 50.50 price and 7472 num_tickets\n",
    "total_sales(50.50, 7472)"
   ]
  },
  {
   "cell_type": "markdown",
   "id": "a6507967-3abd-4c30-b34e-1f2fc5a1483d",
   "metadata": {},
   "source": [
    "## Conclusion\n",
    "**Key takeaways from this Project**"
   ]
  },
  {
   "cell_type": "markdown",
   "id": "0f915033-a68e-4c49-9311-75820ac78da9",
   "metadata": {},
   "source": [
    "- Python allows you to define and call functions that you create.\n",
    "- The main components of a function are the definition statement, the body, and the output statement (usually `return` or `print`).\n",
    "    - The function header includes the `def` keyword, followed by the name of the function, followed by parantheses, followed by a colon.\n",
    "    - The function body includes an indented block of code that instructs the computer on what to do when the function is called.\n",
    "    - The output statement is what the function should produce as a result when executed.\n",
    "- Functions allow you to reuse common code.\n",
    "    - Frequently used calculations can be saved to a function and reused without writing out the equation multiple times.\n",
    "- Functions accept single or multiple parameters.\n",
    "    - Functions can be customized to accept more than one parameter and perform calculations on them, which allows greater flexibility when working with fluctuating values.\n",
    "- Including functions such as `round()` to the return statement helps keep calculated values tidy and easy to read.\n",
    "- Scaffolding functions with code comments helps improve readibility.\n",
    "    - Clearly commented code explains how the code works as well as the intended results."
   ]
  },
  {
   "cell_type": "markdown",
   "id": "6035bd6d-b64a-446f-924d-f84ead301a18",
   "metadata": {},
   "source": [
    "## Author\n",
    "**Wilson Gitonga**"
   ]
  },
  {
   "cell_type": "code",
   "execution_count": null,
   "id": "833db65e-6c49-4094-8cfe-088aabb74cab",
   "metadata": {},
   "outputs": [],
   "source": []
  }
 ],
 "metadata": {
  "kernelspec": {
   "display_name": "Python 3 (ipykernel)",
   "language": "python",
   "name": "python3"
  },
  "language_info": {
   "codemirror_mode": {
    "name": "ipython",
    "version": 3
   },
   "file_extension": ".py",
   "mimetype": "text/x-python",
   "name": "python",
   "nbconvert_exporter": "python",
   "pygments_lexer": "ipython3",
   "version": "3.11.7"
  }
 },
 "nbformat": 4,
 "nbformat_minor": 5
}
